{
 "cells": [
  {
   "cell_type": "code",
   "execution_count": 1,
   "metadata": {},
   "outputs": [],
   "source": [
    "import splitfolders  \n",
    "from os import listdir"
   ]
  },
  {
   "cell_type": "code",
   "execution_count": 2,
   "metadata": {},
   "outputs": [
    {
     "name": "stderr",
     "output_type": "stream",
     "text": [
      "Copying files: 156151 files [00:17, 8894.69 files/s] \n"
     ]
    }
   ],
   "source": [
    "# Split with a ratio.\n",
    "# To only split into training and validation set, set a tuple to `ratio`, i.e, `(.8, .2)`.\n",
    "splitfolders.ratio(\"asl_data/training_data\", output=\"asl_data/output\", seed=1337, ratio=(.8, 0, .2), group_prefix=None) # default values"
   ]
  },
  {
   "cell_type": "code",
   "execution_count": 3,
   "metadata": {},
   "outputs": [
    {
     "name": "stdout",
     "output_type": "stream",
     "text": [
      "{'A': 4684, 'B': 4716, 'C': 4881, 'D': 4728, 'E': 4597, 'F': 4570, 'G': 4652, 'H': 4668, 'I': 4668, 'J': 2424, 'K': 4803, 'L': 4818, 'M': 4618, 'N': 4604, 'O': 4619, 'P': 4695, 'Q': 4589, 'R': 4988, 'S': 4780, 'T': 4548, 'U': 4675, 'V': 4645, 'W': 4968, 'X': 4616, 'Y': 4755, 'Z': 2401, 'del': 2400, 'nothing': 2400, 'space': 2400}\n"
     ]
    }
   ],
   "source": [
    "train_class_distr = {}\n",
    "train_path = \"asl_data/output/train\"\n",
    "for class_name in listdir(train_path):\n",
    "    train_class_distr[class_name] = len(listdir(train_path + \"/\" + class_name))\n",
    "print(train_class_distr)"
   ]
  },
  {
   "cell_type": "code",
   "execution_count": 4,
   "metadata": {},
   "outputs": [
    {
     "name": "stdout",
     "output_type": "stream",
     "text": [
      "{'A': 1171, 'B': 1179, 'C': 1221, 'D': 1183, 'E': 1150, 'F': 1143, 'G': 1164, 'H': 1167, 'I': 1167, 'J': 607, 'K': 1201, 'L': 1205, 'M': 1155, 'N': 1152, 'O': 1155, 'P': 1174, 'Q': 1148, 'R': 1248, 'S': 1195, 'T': 1138, 'U': 1169, 'V': 1162, 'W': 1242, 'X': 1155, 'Y': 1189, 'Z': 601, 'del': 600, 'nothing': 600, 'space': 600}\n"
     ]
    }
   ],
   "source": [
    "test_class_distr = {}\n",
    "test_path = \"asl_data/output/test\"\n",
    "for class_name in listdir(test_path):\n",
    "    test_class_distr[class_name] = len(listdir(test_path + \"/\" + class_name))\n",
    "print(test_class_distr)"
   ]
  },
  {
   "cell_type": "code",
   "execution_count": null,
   "metadata": {},
   "outputs": [],
   "source": []
  }
 ],
 "metadata": {
  "kernelspec": {
   "display_name": "Python 3",
   "language": "python",
   "name": "python3"
  },
  "language_info": {
   "codemirror_mode": {
    "name": "ipython",
    "version": 3
   },
   "file_extension": ".py",
   "mimetype": "text/x-python",
   "name": "python",
   "nbconvert_exporter": "python",
   "pygments_lexer": "ipython3",
   "version": "3.7.6"
  }
 },
 "nbformat": 4,
 "nbformat_minor": 4
}
