{
 "cells": [
  {
   "cell_type": "markdown",
   "metadata": {},
   "source": [
    "(Will no longer work in the future since duplicates have been removed and datasets have been consolidated)"
   ]
  },
  {
   "cell_type": "code",
   "execution_count": 3,
   "metadata": {},
   "outputs": [],
   "source": [
    "#import cv2\n",
    "import numpy as np\n",
    "#import pandas as pd\n",
    "from os import listdir, remove\n",
    "from tqdm import tqdm\n",
    "from datetime import datetime"
   ]
  },
  {
   "cell_type": "code",
   "execution_count": 4,
   "metadata": {},
   "outputs": [
    {
     "name": "stdout",
     "output_type": "stream",
     "text": [
      "Finished checking A!\n",
      "Finished checking B!\n",
      "Finished checking C!\n",
      "Finished checking D!\n",
      "Finished checking E!\n",
      "Finished checking F!\n",
      "Finished checking G!\n",
      "Finished checking H!\n",
      "Finished checking I!\n",
      "Finished checking J!\n",
      "Finished checking K!\n",
      "Finished checking L!\n",
      "Finished checking M!\n",
      "Finished checking N!\n",
      "Finished checking O!\n",
      "Finished checking P!\n",
      "Finished checking Q!\n",
      "Finished checking R!\n",
      "Finished checking S!\n",
      "Finished checking T!\n",
      "Finished checking U!\n",
      "Finished checking V!\n",
      "Finished checking W!\n",
      "Finished checking X!\n",
      "Finished checking Y!\n",
      "Finished checking Z!\n",
      "[0, 0, 0, 0, 0, 0, 0, 0, 0, 0, 0, 0, 0, 0, 0, 0, 0, 0, 0, 0, 0, 0, 0, 0, 0, 0]\n",
      "[3000, 3000, 3000, 3000, 3000, 3000, 3000, 3000, 3000, 3000, 3000, 3000, 3000, 3000, 3000, 3000, 3000, 3000, 3000, 3000, 3000, 3000, 3000, 3000, 3000, 3000]\n",
      "[2855, 2895, 3102, 2911, 2747, 2713, 2816, 2835, 2835, 31, 3004, 3023, 2773, 2756, 2774, 2869, 2737, 3236, 2975, 2686, 2844, 2807, 3210, 2771, 2944, 2]\n",
      "Total time:  0:01:09.768863\n"
     ]
    }
   ],
   "source": [
    "MAIN_PATH = \"asl_data/training_data\"\n",
    "DATASETS = [\"asl_alphabet_train\", \"significant_training_set\"]\n",
    "start = datetime.now()\n",
    "num_duplicates = [0]*26\n",
    "num_files_ds1 = [0]*26\n",
    "num_files_ds2 = [0]*26\n",
    "for i in range(26):\n",
    "    letter = chr(i+ord(\"A\"))\n",
    "    path1 = MAIN_PATH + \"/\" + DATASETS[0] + \"/\" + letter\n",
    "    path2 = MAIN_PATH + \"/\" + DATASETS[1] + \"/\" + letter\n",
    "    num_files_ds1[i] = len(listdir(path1))\n",
    "    num_files_ds2[i] = len(listdir(path2))\n",
    "    for filename1 in listdir(path1):\n",
    "        for filename2 in listdir(path2):\n",
    "            if filename1 == filename2 and filename2 != \".ipynb_checkpoints\":\n",
    "                remove(path2 + \"/\" + filename2) \n",
    "                print(\"Removed \" + filename2) \n",
    "                num_duplicates[i] += 1\n",
    "    print(\"Finished checking \" + letter + \"!\")\n",
    "print(num_duplicates)\n",
    "print(num_files_ds1)\n",
    "print(num_files_ds2)\n",
    "end = datetime.now()\n",
    "print(\"Total time: \", end - start)"
   ]
  },
  {
   "cell_type": "markdown",
   "metadata": {},
   "source": [
    "Note: the output above is from when we reran the cell to confirm that all the duplicates had been removed "
   ]
  },
  {
   "cell_type": "code",
   "execution_count": null,
   "metadata": {},
   "outputs": [],
   "source": []
  }
 ],
 "metadata": {
  "kernelspec": {
   "display_name": "Python 3",
   "language": "python",
   "name": "python3"
  },
  "language_info": {
   "codemirror_mode": {
    "name": "ipython",
    "version": 3
   },
   "file_extension": ".py",
   "mimetype": "text/x-python",
   "name": "python",
   "nbconvert_exporter": "python",
   "pygments_lexer": "ipython3",
   "version": "3.7.6"
  }
 },
 "nbformat": 4,
 "nbformat_minor": 4
}
