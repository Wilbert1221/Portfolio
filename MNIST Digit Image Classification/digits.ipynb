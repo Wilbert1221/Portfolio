{
 "cells": [
  {
   "cell_type": "code",
   "execution_count": 2,
   "metadata": {},
   "outputs": [],
   "source": [
    "import tensorflow as tf\n",
    "import numpy as np\n",
    "mnist_train, (x_test, y_test) = tf.keras.datasets.mnist.load_data()\n",
    "x_train = mnist_train[0][:50000]\n",
    "y_train = mnist_train[1][:50000]\n",
    "x_validate = mnist_train[0][50000:]\n",
    "y_validate = mnist_train[1][50000:]"
   ]
  },
  {
   "cell_type": "markdown",
   "metadata": {},
   "source": [
    "The mnist data set we're downloading is already split into training and testing data. However, we're going to be trying out lots of different networks, so to avoid overfitting to the test set, we'll tune the architecture and other hyperparemeters on the validation set, and only run on the test set once we've finalized the network."
   ]
  },
  {
   "cell_type": "code",
   "execution_count": 3,
   "metadata": {},
   "outputs": [
    {
     "name": "stdout",
     "output_type": "stream",
     "text": [
      "X_train shape: (50000, 28, 28)\n",
      "Y_train shape: (50000,)\n",
      "X_validate shape: (10000, 28, 28)\n",
      "Y_validate shape: (10000,)\n",
      "X_test shape: (10000, 28, 28)\n",
      "Y_test shape: (10000,)\n"
     ]
    }
   ],
   "source": [
    "print(\"X_train shape:\", x_train.shape)\n",
    "print(\"Y_train shape:\", y_train.shape)\n",
    "print(\"X_validate shape:\", x_validate.shape)\n",
    "print(\"Y_validate shape:\", y_validate.shape)\n",
    "print(\"X_test shape:\", x_test.shape)\n",
    "print(\"Y_test shape:\", y_test.shape)"
   ]
  },
  {
   "cell_type": "markdown",
   "metadata": {},
   "source": [
    "Normally, this sort of data split should be done randomly, but in this case, the data set we've downloaded was already appropriately shuffled. We should still verify that the test/validate/train sets all have roughly balanced label classes."
   ]
  },
  {
   "cell_type": "code",
   "execution_count": 4,
   "metadata": {},
   "outputs": [
    {
     "name": "stdout",
     "output_type": "stream",
     "text": [
      "Counter({1: 5678, 7: 5175, 3: 5101, 9: 4988, 2: 4968, 6: 4951, 0: 4932, 4: 4859, 8: 4842, 5: 4506})\n",
      "Counter({7: 1090, 1: 1064, 3: 1030, 8: 1009, 0: 991, 2: 990, 4: 983, 6: 967, 9: 961, 5: 915})\n",
      "Counter({1: 1135, 2: 1032, 7: 1028, 3: 1010, 9: 1009, 4: 982, 0: 980, 8: 974, 6: 958, 5: 892})\n"
     ]
    }
   ],
   "source": [
    "from collections import Counter\n",
    "print(Counter(y_train))\n",
    "print(Counter(y_validate))\n",
    "print(Counter(y_test))"
   ]
  },
  {
   "cell_type": "code",
   "execution_count": 5,
   "metadata": {},
   "outputs": [],
   "source": [
    "import matplotlib.pyplot as plt\n",
    "%matplotlib inline"
   ]
  },
  {
   "cell_type": "markdown",
   "metadata": {},
   "source": [
    "Let's take a look at a random data point (you can re-run this cell as many times as you like):"
   ]
  },
  {
   "cell_type": "code",
   "execution_count": 6,
   "metadata": {},
   "outputs": [
    {
     "name": "stdout",
     "output_type": "stream",
     "text": [
      "training point index: 43415\n",
      "label: 4\n"
     ]
    },
    {
     "data": {
      "image/png": "[encoded data removed]",
      "text/plain": [
       "<Figure size 432x288 with 1 Axes>"
      ]
     },
     "metadata": {
      "needs_background": "light"
     },
     "output_type": "display_data"
    }
   ],
   "source": [
    "index = np.random.randint(x_train.shape[0])\n",
    "print(\"training point index:\", index)\n",
    "print(\"label:\", y_train[index])\n",
    "plt.imshow(x_train[index], cmap='gray')\n",
    "plt.show()"
   ]
  },
  {
   "cell_type": "markdown",
   "metadata": {},
   "source": [
    "In this data set, the X values (the grayscale images) are 28x28 arrays of integers between 0 and 255, and Y values are integers between 0 and 9. We need to normalize the X values, and encode the Y-values. An easy way to do normalization, given that we know the range of the data, is to simply rescale to the range \\[0,1\\] by dividing by 255. For encoding the Y values, there's a handy Keras function: to_categorical. We could also flatten the 28x28 input arrays into 784-vectors, but there's a layer we can add to the network that will do this for us."
   ]
  },
  {
   "cell_type": "code",
   "execution_count": 7,
   "metadata": {},
   "outputs": [],
   "source": [
    "x_train_norm = x_train / 255\n",
    "x_validate_norm = x_validate / 255\n",
    "x_test_norm = x_test / 255\n",
    "\n",
    "y_train_vec = tf.keras.utils.to_categorical(y_train)\n",
    "y_validate_vec = tf.keras.utils.to_categorical(y_validate)\n",
    "y_test_vec = tf.keras.utils.to_categorical(y_test)"
   ]
  },
  {
   "cell_type": "markdown",
   "metadata": {},
   "source": [
    "Let's import sum handy tensorflow sub-libraries. They're documented here: https://keras.io/api/layers/."
   ]
  },
  {
   "cell_type": "code",
   "execution_count": 8,
   "metadata": {},
   "outputs": [],
   "source": [
    "from tensorflow.keras import layers\n",
    "from tensorflow.keras import optimizers\n",
    "from tensorflow.keras import losses\n",
    "from tensorflow.keras import metrics"
   ]
  },
  {
   "cell_type": "markdown",
   "metadata": {},
   "source": [
    "Create a simple neural network. It has:\n",
    "* zero hidden layers\n",
    "* dense inter-layer connections\n",
    "* sigmoid activation functions\n",
    "* mean squared error loss\n",
    "* stochastic gradient descent optimizer\n",
    "\n",
    "You should try playing around with these parameters to improve it."
   ]
  },
  {
   "cell_type": "code",
   "execution_count": 9,
   "metadata": {},
   "outputs": [
    {
     "name": "stdout",
     "output_type": "stream",
     "text": [
      "Model: \"sequential\"\n",
      "_________________________________________________________________\n",
      "Layer (type)                 Output Shape              Param #   \n",
      "=================================================================\n",
      "flatten (Flatten)            (None, 784)               0         \n",
      "_________________________________________________________________\n",
      "dense (Dense)                (None, 64)                50240     \n",
      "_________________________________________________________________\n",
      "dense_1 (Dense)              (None, 64)                4160      \n",
      "_________________________________________________________________\n",
      "dense_2 (Dense)              (None, 10)                650       \n",
      "=================================================================\n",
      "Total params: 55,050\n",
      "Trainable params: 55,050\n",
      "Non-trainable params: 0\n",
      "_________________________________________________________________\n"
     ]
    }
   ],
   "source": [
    "neural_net = tf.keras.Sequential()\n",
    "neural_net.add(layers.Flatten(input_shape=(28, 28, 1))) # non-trainable; converts a 28x28 matrix into a 784-vector.\n",
    "neural_net.add(layers.Dense(64, activation=\"relu\"))\n",
    "neural_net.add(layers.Dense(64, activation=\"relu\"))\n",
    "neural_net.add(layers.Dense(10, activation=\"linear\"))\n",
    "neural_net.compile(loss=losses.MeanSquaredError(), optimizer=optimizers.Adam(learning_rate=0.001), metrics=[metrics.CategoricalAccuracy()])\n",
    "neural_net.summary()"
   ]
  },
  {
   "cell_type": "markdown",
   "metadata": {},
   "source": [
    "We pass a few more parameters when we call fit:\n",
    "* batch_size\n",
    "* epochs\n",
    "\n",
    "Feel free to change these as well."
   ]
  },
  {
   "cell_type": "code",
   "execution_count": 10,
   "metadata": {},
   "outputs": [
    {
     "name": "stdout",
     "output_type": "stream",
     "text": [
      "Epoch 1/10\n",
      "1000/1000 [==============================] - 2s 2ms/step - loss: 0.0249 - categorical_accuracy: 0.8930 - val_loss: 0.0130 - val_categorical_accuracy: 0.9513\n",
      "Epoch 2/10\n",
      "1000/1000 [==============================] - 1s 1ms/step - loss: 0.0111 - categorical_accuracy: 0.9550 - val_loss: 0.0089 - val_categorical_accuracy: 0.9630\n",
      "Epoch 3/10\n",
      "1000/1000 [==============================] - 1s 1ms/step - loss: 0.0081 - categorical_accuracy: 0.9657 - val_loss: 0.0073 - val_categorical_accuracy: 0.9670\n",
      "Epoch 4/10\n",
      "1000/1000 [==============================] - 1s 1ms/step - loss: 0.0065 - categorical_accuracy: 0.9727 - val_loss: 0.0065 - val_categorical_accuracy: 0.9691\n",
      "Epoch 5/10\n",
      "1000/1000 [==============================] - 1s 1ms/step - loss: 0.0054 - categorical_accuracy: 0.9764 - val_loss: 0.0058 - val_categorical_accuracy: 0.9707\n",
      "Epoch 6/10\n",
      "1000/1000 [==============================] - 1s 1ms/step - loss: 0.0047 - categorical_accuracy: 0.9789 - val_loss: 0.0055 - val_categorical_accuracy: 0.9705\n",
      "Epoch 7/10\n",
      "1000/1000 [==============================] - 1s 1ms/step - loss: 0.0041 - categorical_accuracy: 0.9821 - val_loss: 0.0054 - val_categorical_accuracy: 0.9697\n",
      "Epoch 8/10\n",
      "1000/1000 [==============================] - 1s 1ms/step - loss: 0.0037 - categorical_accuracy: 0.9838 - val_loss: 0.0053 - val_categorical_accuracy: 0.9717\n",
      "Epoch 9/10\n",
      "1000/1000 [==============================] - 1s 1ms/step - loss: 0.0033 - categorical_accuracy: 0.9857 - val_loss: 0.0051 - val_categorical_accuracy: 0.9711\n",
      "Epoch 10/10\n",
      "1000/1000 [==============================] - 1s 1ms/step - loss: 0.0030 - categorical_accuracy: 0.9869 - val_loss: 0.0049 - val_categorical_accuracy: 0.9724\n"
     ]
    }
   ],
   "source": [
    "neural_net.fit(x_train_norm, y_train_vec, batch_size=50, epochs=10, validation_data=(x_validate_norm, y_validate_vec))\n",
    "validation_set_predictions = neural_net.predict(x_validate_norm)"
   ]
  },
  {
   "cell_type": "markdown",
   "metadata": {},
   "source": [
    "With the default parameters, it should get ~85% accuracy.\n",
    "See how much better you can do.\n",
    "Even with  a densely connected network (you should stick to Dense layers for now), accuracy above 97% should be quite achievable.\n",
    "\n",
    "You can also see how the network labeled random outputs:"
   ]
  },
  {
   "cell_type": "code",
   "execution_count": 11,
   "metadata": {},
   "outputs": [
    {
     "name": "stdout",
     "output_type": "stream",
     "text": [
      "validation point index: 5742\n",
      "predicted label: 6\n",
      "true label: 6\n"
     ]
    },
    {
     "data": {
      "image/png": "[encoded data removed]",
      "text/plain": [
       "<Figure size 432x288 with 1 Axes>"
      ]
     },
     "metadata": {
      "needs_background": "light"
     },
     "output_type": "display_data"
    }
   ],
   "source": [
    "index = np.random.randint(x_validate.shape[0])\n",
    "print(\"validation point index:\", index)\n",
    "print(\"predicted label:\", validation_set_predictions[index].argmax())\n",
    "print(\"true label:\", y_validate[index])\n",
    "plt.imshow(x_validate[index], cmap='gray')\n",
    "plt.show()"
   ]
  },
  {
   "cell_type": "code",
   "execution_count": 12,
   "metadata": {},
   "outputs": [
    {
     "data": {
      "text/plain": [
       "0.9724"
      ]
     },
     "execution_count": 12,
     "metadata": {},
     "output_type": "execute_result"
    }
   ],
   "source": [
    "accuracy = tf.keras.metrics.CategoricalAccuracy()\n",
    "accuracy.update_state(y_validate_vec, validation_set_predictions)\n",
    "accuracy.result().numpy()"
   ]
  },
  {
   "cell_type": "code",
   "execution_count": 13,
   "metadata": {},
   "outputs": [
    {
     "name": "stdout",
     "output_type": "stream",
     "text": [
      "(10000, 10)\n"
     ]
    },
    {
     "data": {
      "text/plain": [
       "array([3, 8, 6, ..., 5, 6, 8])"
      ]
     },
     "execution_count": 13,
     "metadata": {},
     "output_type": "execute_result"
    }
   ],
   "source": [
    "y_validate_vec\n",
    "print(validation_set_predictions.shape)\n",
    "np.argmax(validation_set_predictions, axis = 1)"
   ]
  },
  {
   "cell_type": "code",
   "execution_count": 14,
   "metadata": {},
   "outputs": [
    {
     "data": {
      "text/plain": [
       "0.9724"
      ]
     },
     "execution_count": 14,
     "metadata": {},
     "output_type": "execute_result"
    }
   ],
   "source": [
    "test_set_predictions = neural_net.predict(x_test_norm)\n",
    "accuracy.update_state(y_test_vec, test_set_predictions)\n",
    "accuracy.result().numpy()"
   ]
  },
  {
   "cell_type": "markdown",
   "metadata": {},
   "source": [
    "Because both the validation accuracy and the test accuracy are approximately equal, we say the model generalizes well to new data and does not overfit to the data."
   ]
  }
 ],
 "metadata": {
  "kernelspec": {
   "display_name": "Python 3",
   "language": "python",
   "name": "python3"
  },
  "language_info": {
   "codemirror_mode": {
    "name": "ipython",
    "version": 3
   },
   "file_extension": ".py",
   "mimetype": "text/x-python",
   "name": "python",
   "nbconvert_exporter": "python",
   "pygments_lexer": "ipython3",
   "version": "3.7.6"
  }
 },
 "nbformat": 4,
 "nbformat_minor": 4
}
