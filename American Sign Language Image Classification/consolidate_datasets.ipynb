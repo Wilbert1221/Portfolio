{
 "cells": [
  {
   "cell_type": "markdown",
   "metadata": {},
   "source": [
    "(Will no longer work in future since datasets have now been consolidated)"
   ]
  },
  {
   "cell_type": "code",
   "execution_count": 1,
   "metadata": {},
   "outputs": [],
   "source": [
    "import shutil\n",
    "import numpy as np\n",
    "from os import listdir, rmdir\n",
    "from tqdm import tqdm\n",
    "from datetime import datetime"
   ]
  },
  {
   "cell_type": "code",
   "execution_count": 2,
   "metadata": {},
   "outputs": [],
   "source": [
    "MAIN_PATH = \"asl_data/training_data\"\n",
    "DATASETS = [\"asl_alphabet_train\", \"significant_training_set\"]"
   ]
  },
  {
   "cell_type": "code",
   "execution_count": 3,
   "metadata": {},
   "outputs": [],
   "source": [
    "# Move all letter images in dataset 2 to corresponding letter directory in dataset 1\n",
    "for i in range(26):\n",
    "    letter = chr(i+ord(\"A\"))\n",
    "    path1 = MAIN_PATH + \"/\" + DATASETS[0] + \"/\" + letter\n",
    "    path2 = MAIN_PATH + \"/\" + DATASETS[1] + \"/\" + letter\n",
    "    for filename2 in listdir(path2):\n",
    "        shutil.move(path2 + \"/\" + filename2, path1 + \"/\" + filename2)"
   ]
  },
  {
   "cell_type": "code",
   "execution_count": 4,
   "metadata": {},
   "outputs": [],
   "source": [
    "# Move all space images in dataset 2 to space directory in dataset 1\n",
    "path1 = MAIN_PATH + \"/\" + DATASETS[0] + \"/space\"\n",
    "path2 = MAIN_PATH + \"/\" + DATASETS[1] + \"/space\"\n",
    "for filename2 in listdir(path2):\n",
    "    shutil.move(path2 + \"/\" + filename2, path1 + \"/\" + filename2)"
   ]
  },
  {
   "cell_type": "code",
   "execution_count": 5,
   "metadata": {},
   "outputs": [
    {
     "name": "stdout",
     "output_type": "stream",
     "text": [
      "A has been removed\n",
      "B has been removed\n",
      "C has been removed\n",
      "D has been removed\n",
      "E has been removed\n",
      "F has been removed\n",
      "G has been removed\n",
      "H has been removed\n",
      "I has been removed\n",
      "J has been removed\n",
      "K has been removed\n",
      "L has been removed\n",
      "M has been removed\n",
      "N has been removed\n",
      "O has been removed\n",
      "P has been removed\n",
      "Q has been removed\n",
      "R has been removed\n",
      "S has been removed\n",
      "T has been removed\n",
      "U has been removed\n",
      "V has been removed\n",
      "W has been removed\n",
      "X has been removed\n",
      "Y has been removed\n",
      "Z has been removed\n",
      "space has been removed\n"
     ]
    }
   ],
   "source": [
    "# Confirm all directories in dataset 2 are empty before deleting them \n",
    "path2 = MAIN_PATH + \"/\" + DATASETS[1]\n",
    "for directory in listdir(path2):\n",
    "    if len(listdir(path2 + \"/\" + directory)) > 0:\n",
    "        print(directory + \"is not empty!\")\n",
    "    else:\n",
    "        rmdir(path2 + \"/\" + directory)\n",
    "        print(directory + \" has been removed\") \n",
    "rmdir(path2)"
   ]
  },
  {
   "cell_type": "code",
   "execution_count": 6,
   "metadata": {},
   "outputs": [
    {
     "name": "stdout",
     "output_type": "stream",
     "text": [
      "{'A': 5855, 'B': 5895, 'C': 6102, 'D': 5911, 'E': 5747, 'F': 5713, 'G': 5816, 'H': 5835, 'I': 5835, 'J': 3031, 'K': 6004, 'L': 6023, 'M': 5773, 'N': 5756, 'O': 5774, 'P': 5869, 'Q': 5737, 'R': 6236, 'S': 5975, 'T': 5686, 'U': 5844, 'V': 5807, 'W': 6210, 'X': 5771, 'Y': 5944, 'Z': 3002, 'del': 3000, 'nothing': 3000, 'space': 3000}\n"
     ]
    }
   ],
   "source": [
    "# Count how many images for each class (letter)\n",
    "class_distr = {}\n",
    "base_path = MAIN_PATH + \"/\" + DATASETS[0]\n",
    "for class_name in listdir(base_path):\n",
    "    class_distr[class_name] = len(listdir(base_path + \"/\" + class_name))\n",
    "print(class_distr)"
   ]
  },
  {
   "cell_type": "code",
   "execution_count": null,
   "metadata": {},
   "outputs": [],
   "source": []
  }
 ],
 "metadata": {
  "kernelspec": {
   "display_name": "Python 3",
   "language": "python",
   "name": "python3"
  },
  "language_info": {
   "codemirror_mode": {
    "name": "ipython",
    "version": 3
   },
   "file_extension": ".py",
   "mimetype": "text/x-python",
   "name": "python",
   "nbconvert_exporter": "python",
   "pygments_lexer": "ipython3",
   "version": "3.7.6"
  }
 },
 "nbformat": 4,
 "nbformat_minor": 4
}
